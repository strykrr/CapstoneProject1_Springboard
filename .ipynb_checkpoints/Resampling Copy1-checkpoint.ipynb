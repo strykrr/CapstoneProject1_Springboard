{
 "cells": [
  {
   "cell_type": "code",
   "execution_count": 54,
   "metadata": {},
   "outputs": [
    {
     "data": {
      "text/plain": [
       "(1000, 21)"
      ]
     },
     "execution_count": 54,
     "metadata": {},
     "output_type": "execute_result"
    }
   ],
   "source": [
    "import pandas as pd\n",
    "import matplotlib.pyplot as plt\n",
    "import numpy as np\n",
    "import seaborn as sns \n",
    "from scipy import stats\n",
    "sns.set()\n",
    "temp_data = pd.read_csv(\"C:\\Project_Files\\Capstone1_Files\\German_CreditRating_Cleaned_Data.csv\")\n",
    "temp_data.shape"
   ]
  },
  {
   "cell_type": "code",
   "execution_count": 61,
   "metadata": {},
   "outputs": [
    {
     "name": "stdout",
     "output_type": "stream",
     "text": [
      "(300, 21)\n",
      "(300, 21)\n"
     ]
    },
    {
     "data": {
      "text/plain": [
       "(600, 21)"
      ]
     },
     "execution_count": 61,
     "metadata": {},
     "output_type": "execute_result"
    }
   ],
   "source": [
    "# Undersampling Good Customer Instances to have 1:1 ratio between Good and Bad Customers\n",
    "good_customers = temp_data[temp_data['credibility'] == 1]\n",
    "bad_customers = temp_data[temp_data['credibility'] == 0]\n",
    "#good_customers.drop(good_customers.index, inplace=True)\n",
    "#bad_customers.drop(bad_customers.index, inplace=True)\n",
    "good_customers = good_customers.sample(n=300,random_state=42)\n",
    "print(good_customers.shape)\n",
    "print(bad_customers.shape)\n",
    "good_customers.head()\n",
    "svm_data = pd.concat([bad_customers,good_customers])\n",
    "svm_data.shape"
   ]
  },
  {
   "cell_type": "code",
   "execution_count": 62,
   "metadata": {},
   "outputs": [
    {
     "data": {
      "text/html": [
       "<div>\n",
       "<style>\n",
       "    .dataframe thead tr:only-child th {\n",
       "        text-align: right;\n",
       "    }\n",
       "\n",
       "    .dataframe thead th {\n",
       "        text-align: left;\n",
       "    }\n",
       "\n",
       "    .dataframe tbody tr th {\n",
       "        vertical-align: top;\n",
       "    }\n",
       "</style>\n",
       "<table border=\"1\" class=\"dataframe\">\n",
       "  <thead>\n",
       "    <tr style=\"text-align: right;\">\n",
       "      <th></th>\n",
       "      <th>checking_account_status</th>\n",
       "      <th>credit_history</th>\n",
       "      <th>purpose</th>\n",
       "      <th>savings_account</th>\n",
       "      <th>present_employment</th>\n",
       "      <th>installment_rate</th>\n",
       "      <th>personal_status_sex</th>\n",
       "      <th>debtors_guarontors</th>\n",
       "      <th>present_residence</th>\n",
       "      <th>property</th>\n",
       "      <th>installment_plans</th>\n",
       "      <th>housing</th>\n",
       "      <th>credits_at_bank</th>\n",
       "      <th>job</th>\n",
       "      <th>people_liable</th>\n",
       "      <th>telephone</th>\n",
       "      <th>worker</th>\n",
       "    </tr>\n",
       "  </thead>\n",
       "  <tbody>\n",
       "    <tr>\n",
       "      <th>1</th>\n",
       "      <td>2</td>\n",
       "      <td>2</td>\n",
       "      <td>3</td>\n",
       "      <td>1</td>\n",
       "      <td>3</td>\n",
       "      <td>2</td>\n",
       "      <td>2</td>\n",
       "      <td>1</td>\n",
       "      <td>2</td>\n",
       "      <td>1</td>\n",
       "      <td>3</td>\n",
       "      <td>2</td>\n",
       "      <td>1</td>\n",
       "      <td>3</td>\n",
       "      <td>1</td>\n",
       "      <td>1</td>\n",
       "      <td>1</td>\n",
       "    </tr>\n",
       "    <tr>\n",
       "      <th>4</th>\n",
       "      <td>1</td>\n",
       "      <td>3</td>\n",
       "      <td>0</td>\n",
       "      <td>1</td>\n",
       "      <td>3</td>\n",
       "      <td>3</td>\n",
       "      <td>3</td>\n",
       "      <td>1</td>\n",
       "      <td>4</td>\n",
       "      <td>4</td>\n",
       "      <td>3</td>\n",
       "      <td>3</td>\n",
       "      <td>2</td>\n",
       "      <td>3</td>\n",
       "      <td>2</td>\n",
       "      <td>1</td>\n",
       "      <td>1</td>\n",
       "    </tr>\n",
       "    <tr>\n",
       "      <th>9</th>\n",
       "      <td>2</td>\n",
       "      <td>4</td>\n",
       "      <td>0</td>\n",
       "      <td>1</td>\n",
       "      <td>1</td>\n",
       "      <td>4</td>\n",
       "      <td>4</td>\n",
       "      <td>1</td>\n",
       "      <td>2</td>\n",
       "      <td>3</td>\n",
       "      <td>3</td>\n",
       "      <td>2</td>\n",
       "      <td>2</td>\n",
       "      <td>4</td>\n",
       "      <td>1</td>\n",
       "      <td>1</td>\n",
       "      <td>1</td>\n",
       "    </tr>\n",
       "    <tr>\n",
       "      <th>10</th>\n",
       "      <td>2</td>\n",
       "      <td>2</td>\n",
       "      <td>0</td>\n",
       "      <td>1</td>\n",
       "      <td>2</td>\n",
       "      <td>3</td>\n",
       "      <td>2</td>\n",
       "      <td>1</td>\n",
       "      <td>1</td>\n",
       "      <td>3</td>\n",
       "      <td>3</td>\n",
       "      <td>1</td>\n",
       "      <td>1</td>\n",
       "      <td>3</td>\n",
       "      <td>1</td>\n",
       "      <td>1</td>\n",
       "      <td>1</td>\n",
       "    </tr>\n",
       "    <tr>\n",
       "      <th>11</th>\n",
       "      <td>1</td>\n",
       "      <td>2</td>\n",
       "      <td>9</td>\n",
       "      <td>1</td>\n",
       "      <td>2</td>\n",
       "      <td>3</td>\n",
       "      <td>2</td>\n",
       "      <td>1</td>\n",
       "      <td>4</td>\n",
       "      <td>2</td>\n",
       "      <td>3</td>\n",
       "      <td>1</td>\n",
       "      <td>1</td>\n",
       "      <td>3</td>\n",
       "      <td>1</td>\n",
       "      <td>1</td>\n",
       "      <td>1</td>\n",
       "    </tr>\n",
       "  </tbody>\n",
       "</table>\n",
       "</div>"
      ],
      "text/plain": [
       "    checking_account_status  credit_history  purpose  savings_account  \\\n",
       "1                         2               2        3                1   \n",
       "4                         1               3        0                1   \n",
       "9                         2               4        0                1   \n",
       "10                        2               2        0                1   \n",
       "11                        1               2        9                1   \n",
       "\n",
       "    present_employment  installment_rate  personal_status_sex  \\\n",
       "1                    3                 2                    2   \n",
       "4                    3                 3                    3   \n",
       "9                    1                 4                    4   \n",
       "10                   2                 3                    2   \n",
       "11                   2                 3                    2   \n",
       "\n",
       "    debtors_guarontors  present_residence  property  installment_plans  \\\n",
       "1                    1                  2         1                  3   \n",
       "4                    1                  4         4                  3   \n",
       "9                    1                  2         3                  3   \n",
       "10                   1                  1         3                  3   \n",
       "11                   1                  4         2                  3   \n",
       "\n",
       "    housing  credits_at_bank  job  people_liable  telephone  worker  \n",
       "1         2                1    3              1          1       1  \n",
       "4         3                2    3              2          1       1  \n",
       "9         2                2    4              1          1       1  \n",
       "10        1                1    3              1          1       1  \n",
       "11        1                1    3              1          1       1  "
      ]
     },
     "execution_count": 62,
     "metadata": {},
     "output_type": "execute_result"
    }
   ],
   "source": [
    "duration_data = svm_data['duration']\n",
    "credit_data = svm_data['credit_amount']\n",
    "age_data = svm_data['age']\n",
    "credibility_data = svm_data['credibility']\n",
    "svm_data.drop(['duration','credit_amount','age','credibility'],axis=1,inplace=True)\n",
    "svm_data.head()"
   ]
  },
  {
   "cell_type": "code",
   "execution_count": 65,
   "metadata": {},
   "outputs": [],
   "source": [
    "# binary transfomration of categorical features and add the numerical features back to the dataset\n",
    "svm_data = pd.concat([pd.get_dummies(svm_data[col]) for col in svm_data],axis=1,keys=svm_data.columns)\n",
    "svm_data['credit_amount'] = credit_data\n",
    "svm_data['duration'] = duration_data\n",
    "svm_data['age'] = age_data"
   ]
  },
  {
   "cell_type": "code",
   "execution_count": 66,
   "metadata": {},
   "outputs": [
    {
     "data": {
      "text/html": [
       "<div>\n",
       "<style>\n",
       "    .dataframe thead tr:only-child th {\n",
       "        text-align: right;\n",
       "    }\n",
       "\n",
       "    .dataframe thead th {\n",
       "        text-align: left;\n",
       "    }\n",
       "\n",
       "    .dataframe tbody tr th {\n",
       "        vertical-align: top;\n",
       "    }\n",
       "</style>\n",
       "<table border=\"1\" class=\"dataframe\">\n",
       "  <thead>\n",
       "    <tr>\n",
       "      <th></th>\n",
       "      <th colspan=\"4\" halign=\"left\">checking_account_status</th>\n",
       "      <th colspan=\"5\" halign=\"left\">credit_history</th>\n",
       "      <th>purpose</th>\n",
       "      <th>...</th>\n",
       "      <th>job</th>\n",
       "      <th colspan=\"2\" halign=\"left\">people_liable</th>\n",
       "      <th colspan=\"2\" halign=\"left\">telephone</th>\n",
       "      <th colspan=\"2\" halign=\"left\">worker</th>\n",
       "      <th>credit_amount</th>\n",
       "      <th>duration</th>\n",
       "      <th>age</th>\n",
       "    </tr>\n",
       "    <tr>\n",
       "      <th></th>\n",
       "      <th>1</th>\n",
       "      <th>2</th>\n",
       "      <th>3</th>\n",
       "      <th>4</th>\n",
       "      <th>0</th>\n",
       "      <th>1</th>\n",
       "      <th>2</th>\n",
       "      <th>3</th>\n",
       "      <th>4</th>\n",
       "      <th>0</th>\n",
       "      <th>...</th>\n",
       "      <th>4</th>\n",
       "      <th>1</th>\n",
       "      <th>2</th>\n",
       "      <th>1</th>\n",
       "      <th>2</th>\n",
       "      <th>1</th>\n",
       "      <th>2</th>\n",
       "      <th></th>\n",
       "      <th></th>\n",
       "      <th></th>\n",
       "    </tr>\n",
       "  </thead>\n",
       "  <tbody>\n",
       "    <tr>\n",
       "      <th>1</th>\n",
       "      <td>0</td>\n",
       "      <td>1</td>\n",
       "      <td>0</td>\n",
       "      <td>0</td>\n",
       "      <td>0</td>\n",
       "      <td>0</td>\n",
       "      <td>1</td>\n",
       "      <td>0</td>\n",
       "      <td>0</td>\n",
       "      <td>0</td>\n",
       "      <td>...</td>\n",
       "      <td>0</td>\n",
       "      <td>1</td>\n",
       "      <td>0</td>\n",
       "      <td>1</td>\n",
       "      <td>0</td>\n",
       "      <td>1</td>\n",
       "      <td>0</td>\n",
       "      <td>5951</td>\n",
       "      <td>48</td>\n",
       "      <td>22</td>\n",
       "    </tr>\n",
       "    <tr>\n",
       "      <th>4</th>\n",
       "      <td>1</td>\n",
       "      <td>0</td>\n",
       "      <td>0</td>\n",
       "      <td>0</td>\n",
       "      <td>0</td>\n",
       "      <td>0</td>\n",
       "      <td>0</td>\n",
       "      <td>1</td>\n",
       "      <td>0</td>\n",
       "      <td>1</td>\n",
       "      <td>...</td>\n",
       "      <td>0</td>\n",
       "      <td>0</td>\n",
       "      <td>1</td>\n",
       "      <td>1</td>\n",
       "      <td>0</td>\n",
       "      <td>1</td>\n",
       "      <td>0</td>\n",
       "      <td>4870</td>\n",
       "      <td>24</td>\n",
       "      <td>53</td>\n",
       "    </tr>\n",
       "    <tr>\n",
       "      <th>9</th>\n",
       "      <td>0</td>\n",
       "      <td>1</td>\n",
       "      <td>0</td>\n",
       "      <td>0</td>\n",
       "      <td>0</td>\n",
       "      <td>0</td>\n",
       "      <td>0</td>\n",
       "      <td>0</td>\n",
       "      <td>1</td>\n",
       "      <td>1</td>\n",
       "      <td>...</td>\n",
       "      <td>1</td>\n",
       "      <td>1</td>\n",
       "      <td>0</td>\n",
       "      <td>1</td>\n",
       "      <td>0</td>\n",
       "      <td>1</td>\n",
       "      <td>0</td>\n",
       "      <td>5234</td>\n",
       "      <td>30</td>\n",
       "      <td>28</td>\n",
       "    </tr>\n",
       "    <tr>\n",
       "      <th>10</th>\n",
       "      <td>0</td>\n",
       "      <td>1</td>\n",
       "      <td>0</td>\n",
       "      <td>0</td>\n",
       "      <td>0</td>\n",
       "      <td>0</td>\n",
       "      <td>1</td>\n",
       "      <td>0</td>\n",
       "      <td>0</td>\n",
       "      <td>1</td>\n",
       "      <td>...</td>\n",
       "      <td>0</td>\n",
       "      <td>1</td>\n",
       "      <td>0</td>\n",
       "      <td>1</td>\n",
       "      <td>0</td>\n",
       "      <td>1</td>\n",
       "      <td>0</td>\n",
       "      <td>1295</td>\n",
       "      <td>12</td>\n",
       "      <td>25</td>\n",
       "    </tr>\n",
       "    <tr>\n",
       "      <th>11</th>\n",
       "      <td>1</td>\n",
       "      <td>0</td>\n",
       "      <td>0</td>\n",
       "      <td>0</td>\n",
       "      <td>0</td>\n",
       "      <td>0</td>\n",
       "      <td>1</td>\n",
       "      <td>0</td>\n",
       "      <td>0</td>\n",
       "      <td>0</td>\n",
       "      <td>...</td>\n",
       "      <td>0</td>\n",
       "      <td>1</td>\n",
       "      <td>0</td>\n",
       "      <td>1</td>\n",
       "      <td>0</td>\n",
       "      <td>1</td>\n",
       "      <td>0</td>\n",
       "      <td>4308</td>\n",
       "      <td>48</td>\n",
       "      <td>24</td>\n",
       "    </tr>\n",
       "  </tbody>\n",
       "</table>\n",
       "<p>5 rows × 70 columns</p>\n",
       "</div>"
      ],
      "text/plain": [
       "   checking_account_status          credit_history             purpose ...  \\\n",
       "                         1  2  3  4              0  1  2  3  4       0 ...   \n",
       "1                        0  1  0  0              0  0  1  0  0       0 ...   \n",
       "4                        1  0  0  0              0  0  0  1  0       1 ...   \n",
       "9                        0  1  0  0              0  0  0  0  1       1 ...   \n",
       "10                       0  1  0  0              0  0  1  0  0       1 ...   \n",
       "11                       1  0  0  0              0  0  1  0  0       0 ...   \n",
       "\n",
       "   job people_liable    telephone    worker    credit_amount duration age  \n",
       "     4             1  2         1  2      1  2                             \n",
       "1    0             1  0         1  0      1  0          5951       48  22  \n",
       "4    0             0  1         1  0      1  0          4870       24  53  \n",
       "9    1             1  0         1  0      1  0          5234       30  28  \n",
       "10   0             1  0         1  0      1  0          1295       12  25  \n",
       "11   0             1  0         1  0      1  0          4308       48  24  \n",
       "\n",
       "[5 rows x 70 columns]"
      ]
     },
     "execution_count": 66,
     "metadata": {},
     "output_type": "execute_result"
    }
   ],
   "source": [
    "svm_data.head()"
   ]
  },
  {
   "cell_type": "code",
   "execution_count": 68,
   "metadata": {
    "collapsed": true
   },
   "outputs": [],
   "source": [
    "# Linear SVC\n",
    "import matplotlib.pyplot as plt\n",
    "from sklearn.pipeline import Pipeline\n",
    "from sklearn.preprocessing import PolynomialFeatures\n",
    "from sklearn.preprocessing import StandardScaler\n",
    "from sklearn.preprocessing import label_binarize\n",
    "from sklearn.metrics import confusion_matrix\n",
    "from sklearn.metrics import classification_report\n",
    "from sklearn.metrics import accuracy_score\n",
    "from sklearn.metrics import roc_curve, auc\n",
    "from sklearn.metrics import precision_recall_curve\n",
    "from sklearn.model_selection import train_test_split\n",
    "from sklearn.model_selection import KFold\n",
    "from sklearn.model_selection import GridSearchCV\n",
    "from sklearn.model_selection import cross_val_score\n",
    "from sklearn.linear_model import LogisticRegression\n",
    "from sklearn.tree import DecisionTreeClassifier\n",
    "from sklearn.neighbors import KNeighborsClassifier\n",
    "from sklearn.discriminant_analysis import LinearDiscriminantAnalysis\n",
    "from sklearn.naive_bayes import GaussianNB\n",
    "from sklearn.svm import LinearSVC,SVC\n",
    "from sklearn.ensemble import AdaBoostClassifier\n",
    "from sklearn.ensemble import GradientBoostingClassifier\n",
    "from sklearn.ensemble import RandomForestClassifier\n",
    "from sklearn.ensemble import ExtraTreesClassifier\n",
    "\n",
    "X_train,X_test,y_train,y_test = train_test_split(svm_data,credibility_data,test_size=0.20,random_state=42)"
   ]
  },
  {
   "cell_type": "code",
   "execution_count": 69,
   "metadata": {},
   "outputs": [
    {
     "data": {
      "text/plain": [
       "1    242\n",
       "0    238\n",
       "Name: credibility, dtype: int64"
      ]
     },
     "execution_count": 69,
     "metadata": {},
     "output_type": "execute_result"
    }
   ],
   "source": [
    "y_train.value_counts()"
   ]
  },
  {
   "cell_type": "code",
   "execution_count": 70,
   "metadata": {},
   "outputs": [
    {
     "name": "stdout",
     "output_type": "stream",
     "text": [
      "ScaledLR: 0.710417 (0.059984)\n",
      "ScaledKNN: 0.677083 (0.059839)\n",
      "ScaledCART: 0.608333 (0.063053)\n",
      "ScaledNB: 0.681250 (0.080175)\n",
      "ScaledLinearSVM: 0.720833 (0.056057)\n",
      "ScaledSVM: 0.714583 (0.045691)\n"
     ]
    }
   ],
   "source": [
    "# Determination of Algorithms after scaling and applying default Hyperparameters\n",
    "\n",
    "pipelines = []\n",
    "pipelines.append(('ScaledLR', Pipeline([('Scaler', StandardScaler()),('LR',LogisticRegression())])))\n",
    "#pipelines.append(('ScaledLDA', Pipeline([('Scaler', StandardScaler()),('LDA',LinearDiscriminantAnalysis())])))\n",
    "pipelines.append(('ScaledKNN', Pipeline([('Scaler', StandardScaler()),('KNN',KNeighborsClassifier())])))\n",
    "pipelines.append(('ScaledCART', Pipeline([('Scaler', StandardScaler()),('CART',DecisionTreeClassifier())])))\n",
    "pipelines.append(('ScaledNB', Pipeline([('Scaler', StandardScaler()),('NB',GaussianNB())])))\n",
    "pipelines.append(('ScaledLinearSVM', Pipeline([('Scaler', StandardScaler()),('SVM', LinearSVC())])))\n",
    "pipelines.append(('ScaledSVM', Pipeline([('Scaler', StandardScaler()),('SVM', SVC())])))\n",
    "\n",
    "results = []\n",
    "names = []\n",
    "\n",
    "for name, model in pipelines:\n",
    "    kfold = KFold(n_splits=10, random_state=42)\n",
    "    cv_results = cross_val_score(model, X_train, y_train, cv=kfold, scoring='accuracy')\n",
    "    results.append(cv_results)\n",
    "    names.append(name)\n",
    "    msg = \"%s: %f (%f)\" % (name, cv_results.mean(), cv_results.std())\n",
    "    print(msg)\n"
   ]
  },
  {
   "cell_type": "code",
   "execution_count": 71,
   "metadata": {},
   "outputs": [
    {
     "name": "stdout",
     "output_type": "stream",
     "text": [
      "Best: 0.729167 using {'svm_clf__C': 0.001}\n"
     ]
    }
   ],
   "source": [
    "# Tuning LinearSVC using C hyperparameter\n",
    "\n",
    "linearSVC_steps = [(\"Scaler\",StandardScaler()),\n",
    "                     (\"svm_clf\",LinearSVC())]\n",
    "linear_svc_clf = Pipeline(linearSVC_steps)\n",
    "\n",
    "# parameters of an Estimator  -->  linear_svc_clf.get_params().keys()\n",
    "\n",
    "parameters_linear_svc = dict(svm_clf__C=[0.0001,0.001,0.01,0.1,1,10])\n",
    "grid_linear_svc = GridSearchCV(linear_svc_clf,param_grid=parameters_linear_svc,cv=5)\n",
    "grid_linear_svc_result =grid_linear_svc.fit(X_train,y_train)\n",
    "print(\"Best: %f using %s\" %(grid_linear_svc_result.best_score_,grid_linear_svc_result.best_params_))"
   ]
  },
  {
   "cell_type": "code",
   "execution_count": 73,
   "metadata": {},
   "outputs": [
    {
     "name": "stdout",
     "output_type": "stream",
     "text": [
      "Best: 0.735417 using {'svc_clf__C': 0.1, 'svc_clf__gamma': 0.01, 'svc_clf__kernel': 'sigmoid'}\n"
     ]
    }
   ],
   "source": [
    "# Tuning SVC using C and gamma hyperparameters\n",
    "\n",
    "svc_steps = [(\"Scaler\",StandardScaler()),\n",
    "             (\"svc_clf\",SVC())]\n",
    "svc_clf = Pipeline(svc_steps)\n",
    "\n",
    "# parameters of an Estimator  -->  svc_clf.get_params().keys()\n",
    "parameters_svc = dict(svc_clf__C=[.001,.01,.1,1,10],svc_clf__gamma=[.001,.01,.1,1,5],svc_clf__kernel=['linear','poly','rbf','sigmoid'])\n",
    "grid_svc = GridSearchCV(svc_clf,param_grid=parameters_svc,cv=5)\n",
    "grid_svc_result = grid_svc.fit(X_train,y_train)\n",
    "print(\"Best: %f using %s\" %(grid_svc_result.best_score_,grid_svc_result.best_params_))\n",
    "mean_svm = grid_svc_result.cv_results_['mean_test_score']\n",
    "std_svm = grid_svc_result.cv_results_['std_test_score']\n",
    "params_svm = grid_svc_result.cv_results_['params']\n",
    "#for mean,std,param in zip(mean_svm,std_svm,params_svm):\n",
    "#   print(\"%f (%f) with : %r :\" %(mean,std,param))"
   ]
  },
  {
   "cell_type": "code",
   "execution_count": 74,
   "metadata": {},
   "outputs": [
    {
     "name": "stdout",
     "output_type": "stream",
     "text": [
      "dict_keys(['C', 'cache_size', 'class_weight', 'coef0', 'decision_function_shape', 'degree', 'gamma', 'kernel', 'max_iter', 'probability', 'random_state', 'shrinking', 'tol', 'verbose'])\n",
      "Accuracy score is : 0.716666666667\n",
      "Confusion Matrix:-\n",
      "[[45 17]\n",
      " [17 41]]\n",
      "Classification report:-\n",
      "             precision    recall  f1-score   support\n",
      "\n",
      "          0       0.73      0.73      0.73        62\n",
      "          1       0.71      0.71      0.71        58\n",
      "\n",
      "avg / total       0.72      0.72      0.72       120\n",
      "\n",
      "0    62\n",
      "1    58\n",
      "Name: credibility, dtype: int64\n"
     ]
    }
   ],
   "source": [
    "# Evaluation on Test Data for SVC\n",
    "scaler = StandardScaler().fit(X_train)\n",
    "scaled_Xtrain = scaler.transform(X_train)\n",
    "model = SVC(C=.1,gamma=.01,kernel='sigmoid',probability= True)\n",
    "print(model.get_params().keys())\n",
    "model.fit(scaled_Xtrain,y_train)\n",
    "scaled_Xtest = scaler.transform(X_test)\n",
    "predicted_y = model.predict(scaled_Xtest)\n",
    "\n",
    "print(\"Accuracy score is : %s\"%accuracy_score(y_test, predicted_y))\n",
    "print(\"Confusion Matrix:-\")\n",
    "print(confusion_matrix(y_test, predicted_y))\n",
    "print(\"Classification report:-\")\n",
    "print(classification_report(y_test, predicted_y))\n",
    "print(y_test.value_counts())"
   ]
  },
  {
   "cell_type": "code",
   "execution_count": 75,
   "metadata": {},
   "outputs": [
    {
     "data": {
      "image/png": "[encoded data removed]",
      "text/plain": [
       "<matplotlib.figure.Figure at 0xc04d00fba8>"
      ]
     },
     "metadata": {},
     "output_type": "display_data"
    }
   ],
   "source": [
    "y_scores = model.decision_function(X_test)\n",
    "precision, recall, _ = precision_recall_curve(y_test, y_scores)\n",
    "\n",
    "plt.step(recall, precision, color='b', alpha=0.2,\n",
    "         where='post')\n",
    "plt.fill_between(recall, precision, step='post', alpha=0.2,\n",
    "                 color='b')\n",
    "\n",
    "plt.xlabel('Recall')\n",
    "plt.ylabel('Precision')\n",
    "plt.ylim([0.0, 1.05])\n",
    "plt.xlim([0.0, 1.0])\n",
    "plt.title('2-class Precision-Recall curve')\n",
    "plt.show()"
   ]
  },
  {
   "cell_type": "code",
   "execution_count": 77,
   "metadata": {},
   "outputs": [
    {
     "data": {
      "image/png": "[encoded data removed]",
      "text/plain": [
       "<matplotlib.figure.Figure at 0xc04d0c9860>"
      ]
     },
     "metadata": {},
     "output_type": "display_data"
    }
   ],
   "source": [
    "# ROC Curve using Decision Function for SVC\n",
    "\n",
    "y_scores = model.decision_function(X_test)\n",
    "fpr,tpr,_ = roc_curve(y_test,y_scores)\n",
    "#print(fpr)\n",
    "#print(tpr)\n",
    "def plot_roc_curve(fpr,tpr,label=None):\n",
    "    plt.plot(fpr,tpr,linewidth=2,label=label)\n",
    "    plt.plot([0,1],[0,1],'k--')\n",
    "    plt.axis([0, 1, 0, 1])\n",
    "    plt.xlabel(\"False Positive Rate\")\n",
    "    plt.ylabel(\"True Positive Rate\")\n",
    "    \n",
    "plot_roc_curve(fpr,tpr)\n",
    "plt.show()"
   ]
  },
  {
   "cell_type": "code",
   "execution_count": 78,
   "metadata": {},
   "outputs": [
    {
     "name": "stdout",
     "output_type": "stream",
     "text": [
      "dict_keys(['C', 'cache_size', 'class_weight', 'coef0', 'decision_function_shape', 'degree', 'gamma', 'kernel', 'max_iter', 'probability', 'random_state', 'shrinking', 'tol', 'verbose'])\n",
      "Accuracy score is : 0.725\n",
      "Confusion Matrix:-\n",
      "[[47 15]\n",
      " [18 40]]\n",
      "Classification report:-\n",
      "             precision    recall  f1-score   support\n",
      "\n",
      "          0       0.72      0.76      0.74        62\n",
      "          1       0.73      0.69      0.71        58\n",
      "\n",
      "avg / total       0.73      0.72      0.72       120\n",
      "\n",
      "0    62\n",
      "1    58\n",
      "Name: credibility, dtype: int64\n"
     ]
    }
   ],
   "source": [
    "# Evaluation on Test Data for LinearSVC\n",
    "\n",
    "scaler = StandardScaler().fit(X_train)\n",
    "scaled_Xtrain = scaler.transform(X_train)\n",
    "model2 = SVC(C=.001,kernel='linear')\n",
    "print(model2.get_params().keys())\n",
    "model2.fit(scaled_Xtrain,y_train)\n",
    "scaled_Xtest = scaler.transform(X_test)\n",
    "predicted_y = model2.predict(scaled_Xtest)\n",
    "print(\"Accuracy score is : %s\"%accuracy_score(y_test, predicted_y))\n",
    "print(\"Confusion Matrix:-\")\n",
    "print(confusion_matrix(y_test, predicted_y))\n",
    "print(\"Classification report:-\")\n",
    "print(classification_report(y_test, predicted_y))\n",
    "print(y_test.value_counts())"
   ]
  },
  {
   "cell_type": "code",
   "execution_count": 79,
   "metadata": {},
   "outputs": [
    {
     "data": {
      "image/png": "[encoded data removed]",
      "text/plain": [
       "<matplotlib.figure.Figure at 0xc04d133b38>"
      ]
     },
     "metadata": {},
     "output_type": "display_data"
    }
   ],
   "source": [
    "# ROC Curve using Decision Function for SVC\n",
    "\n",
    "y_scores = model2.decision_function(X_test)\n",
    "#print(y_scores)\n",
    "fpr,tpr,_ = roc_curve(y_test,y_scores)\n",
    "#print(fpr)\n",
    "#print(tpr)\n",
    "def plot_roc_curve(fpr,tpr,label=None):\n",
    "    plt.plot(fpr,tpr,linewidth=2,label=label)\n",
    "    plt.plot([0,1],[0,1],'k--')\n",
    "    plt.axis([0, 1, 0, 1])\n",
    "    plt.xlabel(\"False Positive Rate\")\n",
    "    plt.ylabel(\"True Positive Rate\")\n",
    "    \n",
    "plot_roc_curve(fpr,tpr)\n",
    "plt.show()"
   ]
  }
 ],
 "metadata": {
  "kernelspec": {
   "display_name": "Python 3",
   "language": "python",
   "name": "python3"
  },
  "language_info": {
   "codemirror_mode": {
    "name": "ipython",
    "version": 3
   },
   "file_extension": ".py",
   "mimetype": "text/x-python",
   "name": "python",
   "nbconvert_exporter": "python",
   "pygments_lexer": "ipython3",
   "version": "3.6.2"
  }
 },
 "nbformat": 4,
 "nbformat_minor": 2
}
