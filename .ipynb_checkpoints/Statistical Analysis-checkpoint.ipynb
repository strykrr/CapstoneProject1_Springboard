{
 "cells": [
  {
   "cell_type": "code",
   "execution_count": 1,
   "metadata": {
    "collapsed": true
   },
   "outputs": [],
   "source": [
    "import pandas as pd\n",
    "import matplotlib.pyplot as plt\n",
    "import numpy as np\n",
    "import seaborn as sns \n",
    "from scipy import stats\n",
    "sns.set()\n",
    "german_data = pd.read_csv(\"C:\\Project_Files\\Capstone1_Files\\German_CreditRating_Cleaned_Data.csv\")"
   ]
  },
  {
   "cell_type": "code",
   "execution_count": 85,
   "metadata": {},
   "outputs": [
    {
     "data": {
      "text/plain": [
       "Index(['Unnamed: 0', 'checking_account_status', 'duration', 'credit_history',\n",
       "       'purpose', 'credit_amount', 'savings_account', 'present_employment',\n",
       "       'installment_rate', 'personal_status_sex', 'debtors_guarontors',\n",
       "       'present_residence', 'property', 'age', 'installment_plans', 'housing',\n",
       "       'credits_at_bank', 'job', 'people_liable', 'telephone', 'worker',\n",
       "       'credibility'],\n",
       "      dtype='object')"
      ]
     },
     "execution_count": 85,
     "metadata": {},
     "output_type": "execute_result"
    }
   ],
   "source": [
    "german_data.columns"
   ]
  },
  {
   "cell_type": "code",
   "execution_count": 121,
   "metadata": {
    "collapsed": true
   },
   "outputs": [],
   "source": [
    "# function to filter persons with good and bad credit\n",
    "def good_bad_credit_data(col1,col2='credibility'):\n",
    "    good_credit_data = pd.DataFrame(german_data[col1][german_data[col2]== 1])\n",
    "    bad_credit_data = pd.DataFrame(german_data[col1][german_data[col2]== 0])\n",
    "    return (good_credit_data,bad_credit_data)\n",
    "\n",
    "# function to calculate the observed values for each attribute columns\n",
    "def observed_values(df1,df2,col1,col2):\n",
    "    df1[col2]=1\n",
    "    df2[col2]=1                  \n",
    "    good_count = df1.groupby(col1).sum()\n",
    "    bad_count =  df2.groupby(col1).sum()\n",
    "    observed_counts = np.array([good_count.iloc[:,0],bad_count.iloc[:,0]])\n",
    "    return (observed_counts)\n",
    "\n",
    "# function to calculate the Expected counts for each attribute columns\n",
    "def Expected_values(observed_count):\n",
    "    expected_product= np.empty(shape=observed_count.shape)\n",
    "    overall_total = 0\n",
    "    for i in range(observed_count.shape[0]):\n",
    "        overall_total = overall_total + np.sum(observed_count[i])\n",
    "        for j in range(observed_count.shape[1]):\n",
    "            expected_product[i][j] = (np.sum(observed_count[i])*np.sum(observed_count[:,j]))\n",
    "    return (expected_product/overall_total)"
   ]
  },
  {
   "cell_type": "code",
   "execution_count": 132,
   "metadata": {},
   "outputs": [
    {
     "name": "stdout",
     "output_type": "stream",
     "text": [
      "[[139 164  49 348]\n",
      " [135 105  14  46]]\n",
      "[[ 191.8  188.3   44.1  275.8]\n",
      " [  82.2   80.7   18.9  118.2]]\n"
     ]
    },
    {
     "data": {
      "text/plain": [
       "Power_divergenceResult(statistic=123.72094351626561, pvalue=1.2850305728305954e-23)"
      ]
     },
     "execution_count": 132,
     "metadata": {},
     "output_type": "execute_result"
    }
   ],
   "source": [
    "#Attribute 1: (qualitative) \n",
    "#Status of existing checking account \n",
    "\n",
    "good_attr1,bad_attr1 = good_bad_credit_data('checking_account_status')\n",
    "attr1_observed_counts = observed_values(good_attr1,bad_attr1,'checking_account_status','checking_account_status_counts')\n",
    "print(attr1_observed_counts)\n",
    "attr1_expected_counts = Expected_values(attr1_observed_counts)\n",
    "print(attr1_expected_counts)\n",
    "\n",
    "stats.chisquare(f_obs= attr1_observed_counts,f_exp= attr1_expected_counts,axis= None) \n"
   ]
  },
  {
   "cell_type": "code",
   "execution_count": 131,
   "metadata": {},
   "outputs": [
    {
     "data": {
      "text/plain": [
       "(123.72094351626561,\n",
       " 1.2189020722893755e-26,\n",
       " 3,\n",
       " array([[ 191.8,  188.3,   44.1,  275.8],\n",
       "        [  82.2,   80.7,   18.9,  118.2]]))"
      ]
     },
     "execution_count": 131,
     "metadata": {},
     "output_type": "execute_result"
    }
   ],
   "source": [
    "stats.chi2_contingency(observed=attr1_observed_counts)"
   ]
  },
  {
   "cell_type": "markdown",
   "metadata": {},
   "source": [
    "* Null hypothesis is to prove that the two categorical variables Good and Bad creditors are independent of status of checking account but the p value is very low, there by we can reject the Null hypothesis. This clearly indicates  that the two categories are dependent on the Status of checking Account."
   ]
  },
  {
   "cell_type": "code",
   "execution_count": 137,
   "metadata": {
    "collapsed": true
   },
   "outputs": [],
   "source": [
    "#Attribute 2: (numerical) \n",
    "#Duration in month \n",
    "\n"
   ]
  },
  {
   "cell_type": "code",
   "execution_count": 138,
   "metadata": {},
   "outputs": [
    {
     "name": "stdout",
     "output_type": "stream",
     "text": [
      "[[ 15  21 361  60 243]\n",
      " [ 25  28 169  28  50]]\n"
     ]
    },
    {
     "data": {
      "text/plain": [
       "(61.691396964595498,\n",
       " 1.2791872956751013e-12,\n",
       " 4,\n",
       " array([[  28. ,   34.3,  371. ,   61.6,  205.1],\n",
       "        [  12. ,   14.7,  159. ,   26.4,   87.9]]))"
      ]
     },
     "execution_count": 138,
     "metadata": {},
     "output_type": "execute_result"
    }
   ],
   "source": [
    "#Attribute 3: (qualitative) \n",
    "#Credit history \n",
    "\n",
    "good_attr3,bad_attr3 = good_bad_credit_data('credit_history')\n",
    "attr3_observed_counts = observed_values(good_attr3,bad_attr3,'credit_history','credit_history_counts')\n",
    "print(attr3_observed_counts)\n",
    "stats.chi2_contingency(observed=attr3_observed_counts)"
   ]
  },
  {
   "cell_type": "markdown",
   "metadata": {},
   "source": [
    "* Null hypothesis can be rejected as the p value is very low, there by there is a dependency of the two variables on Credit History"
   ]
  },
  {
   "cell_type": "code",
   "execution_count": 139,
   "metadata": {},
   "outputs": [
    {
     "name": "stdout",
     "output_type": "stream",
     "text": [
      "[[152  86 123 218   8  14  28   8  63]\n",
      " [ 94  17  58  62   4   8  22   1  34]]\n"
     ]
    },
    {
     "data": {
      "text/plain": [
       "(33.284725448233324,\n",
       " 5.4721150411461247e-05,\n",
       " 8,\n",
       " array([[ 172.2,   72.1,  126.7,  196. ,    8.4,   15.4,   35. ,    6.3,\n",
       "           67.9],\n",
       "        [  73.8,   30.9,   54.3,   84. ,    3.6,    6.6,   15. ,    2.7,\n",
       "           29.1]]))"
      ]
     },
     "execution_count": 139,
     "metadata": {},
     "output_type": "execute_result"
    }
   ],
   "source": [
    "#Attribute 4: (qualitative) \n",
    "#Purpose \n",
    "\n",
    "good_attr4,bad_attr4 = good_bad_credit_data('purpose')\n",
    "attr4_observed_counts = observed_values(good_attr4,bad_attr4,'purpose','purpose_counts')\n",
    "print(attr4_observed_counts)\n",
    "stats.chi2_contingency(observed=attr4_observed_counts)"
   ]
  },
  {
   "cell_type": "markdown",
   "metadata": {},
   "source": [
    "* Null hypothesis can be rejected as the p value is very low, there by there is a dependency of the two variables on Purpose."
   ]
  },
  {
   "cell_type": "code",
   "execution_count": null,
   "metadata": {
    "collapsed": true
   },
   "outputs": [],
   "source": [
    "#Attribute 5: (numerical) \n",
    "#Credit amount"
   ]
  },
  {
   "cell_type": "code",
   "execution_count": 140,
   "metadata": {},
   "outputs": [
    {
     "name": "stdout",
     "output_type": "stream",
     "text": [
      "[[386  69  52  42 151]\n",
      " [217  34  11   6  32]]\n"
     ]
    },
    {
     "data": {
      "text/plain": [
       "(36.098928192418697,\n",
       " 2.7612142385682596e-07,\n",
       " 4,\n",
       " array([[ 422.1,   72.1,   44.1,   33.6,  128.1],\n",
       "        [ 180.9,   30.9,   18.9,   14.4,   54.9]]))"
      ]
     },
     "execution_count": 140,
     "metadata": {},
     "output_type": "execute_result"
    }
   ],
   "source": [
    "#Attibute 6: (qualitative) \n",
    "#Savings account/bonds \n",
    "\n",
    "good_attr6,bad_attr6 = good_bad_credit_data('savings_account')\n",
    "attr6_observed_counts = observed_values(good_attr6,bad_attr6,'savings_account','savings_account_counts')\n",
    "print(attr6_observed_counts)\n",
    "stats.chi2_contingency(observed=attr6_observed_counts)"
   ]
  },
  {
   "cell_type": "markdown",
   "metadata": {},
   "source": [
    "* Null hypothesis can be rejected as the p value is very low, there by there is a dependency of the two variables on Savings account/bonds"
   ]
  },
  {
   "cell_type": "code",
   "execution_count": 142,
   "metadata": {},
   "outputs": [
    {
     "name": "stdout",
     "output_type": "stream",
     "text": [
      "[[ 39 102 235 135 189]\n",
      " [ 23  70 104  39  64]]\n"
     ]
    },
    {
     "data": {
      "text/plain": [
       "(18.368273846696798,\n",
       " 0.0010454523491402539,\n",
       " 4,\n",
       " array([[  43.4,  120.4,  237.3,  121.8,  177.1],\n",
       "        [  18.6,   51.6,  101.7,   52.2,   75.9]]))"
      ]
     },
     "execution_count": 142,
     "metadata": {},
     "output_type": "execute_result"
    }
   ],
   "source": [
    "#Attribute 7: (qualitative) \n",
    "#Present employment since \n",
    "\n",
    "good_attr7,bad_attr7 = good_bad_credit_data('present_employment')\n",
    "attr7_observed_counts = observed_values(good_attr7,bad_attr7,'present_employment','present_employment_counts')\n",
    "print(attr7_observed_counts)\n",
    "stats.chi2_contingency(observed=attr7_observed_counts)"
   ]
  },
  {
   "cell_type": "markdown",
   "metadata": {},
   "source": [
    "* Null hypothesis can be rejected as the p is comparitively higher than other attributes but not significant enough, there by there is a dependency of the two variables on Savings account/bonds"
   ]
  },
  {
   "cell_type": "code",
   "execution_count": 143,
   "metadata": {},
   "outputs": [
    {
     "name": "stdout",
     "output_type": "stream",
     "text": [
      "[[102 169 112 317]\n",
      " [ 34  62  45 159]]\n"
     ]
    },
    {
     "data": {
      "text/plain": [
       "(5.4767921451537527,\n",
       " 0.14003331221284809,\n",
       " 3,\n",
       " array([[  95.2,  161.7,  109.9,  333.2],\n",
       "        [  40.8,   69.3,   47.1,  142.8]]))"
      ]
     },
     "execution_count": 143,
     "metadata": {},
     "output_type": "execute_result"
    }
   ],
   "source": [
    "#Attribute 8: (numerical) \n",
    "#Installment rate in percentage of disposable income\n",
    "\n",
    "good_attr8,bad_attr8 = good_bad_credit_data('installment_rate')\n",
    "attr8_observed_counts = observed_values(good_attr8,bad_attr8,'installment_rate','installment_rate_counts')\n",
    "print(attr8_observed_counts)\n",
    "stats.chi2_contingency(observed=attr8_observed_counts)\n"
   ]
  },
  {
   "cell_type": "markdown",
   "metadata": {},
   "source": [
    "* Null hypothesis cannot be rejected as the p value is significance enough, there by we can conclude that the two variables are independent of Installment Rate."
   ]
  },
  {
   "cell_type": "code",
   "execution_count": 144,
   "metadata": {},
   "outputs": [
    {
     "name": "stdout",
     "output_type": "stream",
     "text": [
      "[[ 30 201 402  67]\n",
      " [ 20 109 146  25]]\n"
     ]
    },
    {
     "data": {
      "text/plain": [
       "(9.6052139593360497,\n",
       " 0.022238005469268771,\n",
       " 3,\n",
       " array([[  35. ,  217. ,  383.6,   64.4],\n",
       "        [  15. ,   93. ,  164.4,   27.6]]))"
      ]
     },
     "execution_count": 144,
     "metadata": {},
     "output_type": "execute_result"
    }
   ],
   "source": [
    "#Attribute 9: (qualitative) \n",
    "#Personal status and sex\n",
    "\n",
    "good_attr9,bad_attr9 = good_bad_credit_data('personal_status_sex')\n",
    "attr9_observed_counts = observed_values(good_attr9,bad_attr9,'personal_status_sex','personal_status_sex_counts')\n",
    "print(attr9_observed_counts)\n",
    "stats.chi2_contingency(observed=attr9_observed_counts)"
   ]
  },
  {
   "cell_type": "markdown",
   "metadata": {},
   "source": [
    "* Null hypothesis can be rejected as the p value is comparitively higher than other attributes but not more than the significance level of .05, there by there is a dependency of the two variables on Personal status and sex"
   ]
  },
  {
   "cell_type": "code",
   "execution_count": 146,
   "metadata": {},
   "outputs": [
    {
     "name": "stdout",
     "output_type": "stream",
     "text": [
      "[[635  23  42]\n",
      " [272  18  10]]\n"
     ]
    },
    {
     "data": {
      "text/plain": [
       "(6.645366537264243, 0.036055954027247226, 2, array([[ 634.9,   28.7,   36.4],\n",
       "        [ 272.1,   12.3,   15.6]]))"
      ]
     },
     "execution_count": 146,
     "metadata": {},
     "output_type": "execute_result"
    }
   ],
   "source": [
    "#Attribute 10: (qualitative) \n",
    "#Other debtors / guarantors \n",
    "\n",
    "good_attr10,bad_attr10 = good_bad_credit_data('debtors_guarontors')\n",
    "attr10_observed_counts = observed_values(good_attr10,bad_attr10,'debtors_guarontors','debtors_guarontors_counts')\n",
    "print(attr10_observed_counts)\n",
    "stats.chi2_contingency(observed=attr10_observed_counts)\n"
   ]
  },
  {
   "cell_type": "markdown",
   "metadata": {},
   "source": [
    "* Null hypothesis can be rejected as the p value is comparitively higher than other attributes but not more than the significance level of .05, there by there is a dependency of the two variables on Other debtors / guarantors"
   ]
  },
  {
   "cell_type": "code",
   "execution_count": 147,
   "metadata": {},
   "outputs": [
    {
     "name": "stdout",
     "output_type": "stream",
     "text": [
      "[[ 94 211 106 289]\n",
      " [ 36  97  43 124]]\n"
     ]
    },
    {
     "data": {
      "text/plain": [
       "(0.74929644838805132,\n",
       " 0.86155213204131753,\n",
       " 3,\n",
       " array([[  91. ,  215.6,  104.3,  289.1],\n",
       "        [  39. ,   92.4,   44.7,  123.9]]))"
      ]
     },
     "execution_count": 147,
     "metadata": {},
     "output_type": "execute_result"
    }
   ],
   "source": [
    "#Attribute 11: (numerical) \n",
    "#Present residence since \n",
    "\n",
    "good_attr11,bad_attr11 = good_bad_credit_data('present_residence')\n",
    "attr11_observed_counts = observed_values(good_attr11,bad_attr11,'present_residence','present_residence_counts')\n",
    "print(attr11_observed_counts)\n",
    "stats.chi2_contingency(observed=attr11_observed_counts)\n"
   ]
  },
  {
   "cell_type": "markdown",
   "metadata": {},
   "source": [
    "* Null hypothesis cannot be rejected as the p value is significant enough, there by we can conclude that the two variables are independent of Present residence."
   ]
  },
  {
   "cell_type": "code",
   "execution_count": 148,
   "metadata": {},
   "outputs": [
    {
     "name": "stdout",
     "output_type": "stream",
     "text": [
      "[[222 161 230  87]\n",
      " [ 60  71 102  67]]\n"
     ]
    },
    {
     "data": {
      "text/plain": [
       "(23.719551283864707,\n",
       " 2.8584415733250017e-05,\n",
       " 3,\n",
       " array([[ 197.4,  162.4,  232.4,  107.8],\n",
       "        [  84.6,   69.6,   99.6,   46.2]]))"
      ]
     },
     "execution_count": 148,
     "metadata": {},
     "output_type": "execute_result"
    }
   ],
   "source": [
    "#Attribute 12: (qualitative) \n",
    "#Property \n",
    "\n",
    "good_attr12,bad_attr12 = good_bad_credit_data('property')\n",
    "attr12_observed_counts = observed_values(good_attr12,bad_attr12,'property','property_counts')\n",
    "print(attr12_observed_counts)\n",
    "stats.chi2_contingency(observed=attr12_observed_counts)\n"
   ]
  },
  {
   "cell_type": "markdown",
   "metadata": {},
   "source": [
    "* Null hypothesis can be rejected as the p value is below the significance level of 0.05 , there by we can conclude that the two variables are dependent on Property"
   ]
  },
  {
   "cell_type": "code",
   "execution_count": 150,
   "metadata": {
    "collapsed": true
   },
   "outputs": [],
   "source": [
    "#Attribute 13: (numerical) \n",
    "#Age in years \n",
    "\n"
   ]
  },
  {
   "cell_type": "code",
   "execution_count": 151,
   "metadata": {},
   "outputs": [
    {
     "name": "stdout",
     "output_type": "stream",
     "text": [
      "[[ 82  28 590]\n",
      " [ 57  19 224]]\n"
     ]
    },
    {
     "data": {
      "text/plain": [
       "(12.839187735866137, 0.0016293178186473534, 2, array([[  97.3,   32.9,  569.8],\n",
       "        [  41.7,   14.1,  244.2]]))"
      ]
     },
     "execution_count": 151,
     "metadata": {},
     "output_type": "execute_result"
    }
   ],
   "source": [
    "#Attribute 14: (qualitative) \n",
    "#Other installment plans\n",
    "\n",
    "good_attr14,bad_attr14 = good_bad_credit_data('installment_plans')\n",
    "attr14_observed_counts = observed_values(good_attr14,bad_attr14,'installment_plans','installment_plans_counts')\n",
    "print(attr14_observed_counts)\n",
    "stats.chi2_contingency(observed=attr14_observed_counts)"
   ]
  },
  {
   "cell_type": "markdown",
   "metadata": {},
   "source": [
    "* Null hypothesis can be rejected as the p value is below the significance level of 0.05 , there by we can conclude that the two variables are dependent on Other installment plans"
   ]
  },
  {
   "cell_type": "code",
   "execution_count": 152,
   "metadata": {},
   "outputs": [
    {
     "name": "stdout",
     "output_type": "stream",
     "text": [
      "[[109 527  64]\n",
      " [ 70 186  44]]\n"
     ]
    },
    {
     "data": {
      "text/plain": [
       "(18.199841582563622,\n",
       " 0.00011167465374597684,\n",
       " 2,\n",
       " array([[ 125.3,  499.1,   75.6],\n",
       "        [  53.7,  213.9,   32.4]]))"
      ]
     },
     "execution_count": 152,
     "metadata": {},
     "output_type": "execute_result"
    }
   ],
   "source": [
    "#Attribute 15: (qualitative) \n",
    "#Housing\n",
    "\n",
    "good_attr15,bad_attr15 = good_bad_credit_data('housing')\n",
    "attr15_observed_counts = observed_values(good_attr15,bad_attr15,'housing','housing_counts')\n",
    "print(attr15_observed_counts)\n",
    "stats.chi2_contingency(observed=attr15_observed_counts)\n"
   ]
  },
  {
   "cell_type": "markdown",
   "metadata": {},
   "source": [
    "* Null hypothesis can be rejected as the p value is below the significance level of 0.05 , there by we can conclude that the two variables are dependent on Housing"
   ]
  },
  {
   "cell_type": "code",
   "execution_count": null,
   "metadata": {
    "collapsed": true
   },
   "outputs": [],
   "source": [
    "#Attribute 16: (numerical) \n",
    "#Number of existing credits at this bank \n",
    "\n"
   ]
  },
  {
   "cell_type": "code",
   "execution_count": 153,
   "metadata": {},
   "outputs": [
    {
     "name": "stdout",
     "output_type": "stream",
     "text": [
      "[[ 15 144 444  97]\n",
      " [  7  56 186  51]]\n"
     ]
    },
    {
     "data": {
      "text/plain": [
       "(1.8851560280131707,\n",
       " 0.59658159188434312,\n",
       " 3,\n",
       " array([[  15.4,  140. ,  441. ,  103.6],\n",
       "        [   6.6,   60. ,  189. ,   44.4]]))"
      ]
     },
     "execution_count": 153,
     "metadata": {},
     "output_type": "execute_result"
    }
   ],
   "source": [
    "#Attribute 17: (qualitative) \n",
    "#Job \n",
    "#A171 : unemployed/ unskilled - non-resident \n",
    "#A172 : unskilled - resident\n",
    "\n",
    "good_attr17,bad_attr17 = good_bad_credit_data('job')\n",
    "attr17_observed_counts = observed_values(good_attr17,bad_attr17,'job','job_counts')\n",
    "print(attr17_observed_counts)\n",
    "stats.chi2_contingency(observed=attr17_observed_counts)\n"
   ]
  },
  {
   "cell_type": "markdown",
   "metadata": {},
   "source": [
    "* Null hypothesis cannot be rejected as the p value is significant enough, there by we can conclude that the two variables are independent of Job factor"
   ]
  },
  {
   "cell_type": "code",
   "execution_count": null,
   "metadata": {
    "collapsed": true
   },
   "outputs": [],
   "source": [
    "#Attribute 18: (numerical) \n",
    "#Number of people being liable to provide maintenance for"
   ]
  },
  {
   "cell_type": "code",
   "execution_count": 154,
   "metadata": {},
   "outputs": [
    {
     "name": "stdout",
     "output_type": "stream",
     "text": [
      "[[409 291]\n",
      " [187 113]]\n"
     ]
    },
    {
     "data": {
      "text/plain": [
       "(1.1725585310208855, 0.27887615430357426, 1, array([[ 417.2,  282.8],\n",
       "        [ 178.8,  121.2]]))"
      ]
     },
     "execution_count": 154,
     "metadata": {},
     "output_type": "execute_result"
    }
   ],
   "source": [
    "#Attribute 19: (qualitative) \n",
    "#Telephone \n",
    "\n",
    "good_attr19,bad_attr19 = good_bad_credit_data('telephone')\n",
    "attr19_observed_counts = observed_values(good_attr19,bad_attr19,'telephone','telephone_counts')\n",
    "print(attr19_observed_counts)\n",
    "stats.chi2_contingency(observed=attr19_observed_counts)\n"
   ]
  },
  {
   "cell_type": "markdown",
   "metadata": {},
   "source": [
    "* Null hypothesis cannot be rejected as the p value is significant enough, there by we can conclude that the two variables are independent of Telephone"
   ]
  },
  {
   "cell_type": "code",
   "execution_count": 155,
   "metadata": {},
   "outputs": [
    {
     "name": "stdout",
     "output_type": "stream",
     "text": [
      "[[667  33]\n",
      " [296   4]]\n"
     ]
    },
    {
     "data": {
      "text/plain": [
       "(5.8215759150338613, 0.015830754902852885, 1, array([[ 674.1,   25.9],\n",
       "        [ 288.9,   11.1]]))"
      ]
     },
     "execution_count": 155,
     "metadata": {},
     "output_type": "execute_result"
    }
   ],
   "source": [
    "#Attribute 20: (qualitative) \n",
    "#foreign worker \n",
    "\n",
    "good_attr20,bad_attr20 = good_bad_credit_data('worker')\n",
    "attr20_observed_counts = observed_values(good_attr20,bad_attr20,'worker','worker_counts')\n",
    "print(attr20_observed_counts)\n",
    "stats.chi2_contingency(observed=attr20_observed_counts)\n",
    "\n"
   ]
  },
  {
   "cell_type": "code",
   "execution_count": null,
   "metadata": {
    "collapsed": true
   },
   "outputs": [],
   "source": [
    "* Null hypothesis can be rejected as the p value is below the significance level of 0.05 , there by we can conclude that the two variables are dependent on Foreign Worker"
   ]
  },
  {
   "cell_type": "code",
   "execution_count": null,
   "metadata": {
    "collapsed": true
   },
   "outputs": [],
   "source": []
  }
 ],
 "metadata": {
  "kernelspec": {
   "display_name": "Python 3",
   "language": "python",
   "name": "python3"
  },
  "language_info": {
   "codemirror_mode": {
    "name": "ipython",
    "version": 3
   },
   "file_extension": ".py",
   "mimetype": "text/x-python",
   "name": "python",
   "nbconvert_exporter": "python",
   "pygments_lexer": "ipython3",
   "version": "3.6.2"
  }
 },
 "nbformat": 4,
 "nbformat_minor": 2
}
