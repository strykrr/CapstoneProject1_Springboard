{
 "cells": [
  {
   "cell_type": "code",
   "execution_count": 3,
   "metadata": {
    "collapsed": true
   },
   "outputs": [],
   "source": [
    "# Import Skleaen libraries\n",
    "from sklearn.pipeline import Pipeline\n",
    "from sklearn.preprocessing import PolynomialFeatures\n",
    "from sklearn.preprocessing import StandardScaler\n",
    "from sklearn.preprocessing import label_binarize\n",
    "from sklearn.metrics import confusion_matrix\n",
    "from sklearn.metrics import classification_report\n",
    "from sklearn.metrics import accuracy_score\n",
    "from sklearn.metrics import roc_curve, auc\n",
    "from sklearn.metrics import precision_recall_curve\n",
    "from sklearn.model_selection import train_test_split\n",
    "from sklearn.model_selection import KFold\n",
    "from sklearn.model_selection import GridSearchCV\n",
    "from sklearn.model_selection import cross_val_score\n",
    "from sklearn.linear_model import LogisticRegression\n",
    "from sklearn.tree import DecisionTreeClassifier\n",
    "from sklearn.neighbors import KNeighborsClassifier\n",
    "from sklearn.discriminant_analysis import LinearDiscriminantAnalysis\n",
    "from sklearn.naive_bayes import GaussianNB\n",
    "from sklearn.svm import LinearSVC,SVC\n",
    "from sklearn.ensemble import AdaBoostClassifier\n",
    "from sklearn.ensemble import GradientBoostingClassifier\n",
    "from sklearn.ensemble import RandomForestClassifier\n",
    "from sklearn.ensemble import ExtraTreesClassifier"
   ]
  },
  {
   "cell_type": "code",
   "execution_count": 4,
   "metadata": {
    "collapsed": true
   },
   "outputs": [],
   "source": [
    "# Import other Libraries\n",
    "import matplotlib.pyplot as plt\n",
    "import pandas as pd\n",
    "import matplotlib.pyplot as plt\n",
    "import numpy as np\n",
    "import seaborn as sns \n",
    "from scipy import stats\n",
    "sns.set()\n"
   ]
  },
  {
   "cell_type": "code",
   "execution_count": 18,
   "metadata": {},
   "outputs": [
    {
     "name": "stdout",
     "output_type": "stream",
     "text": [
      "shape of the Original data (1000, 21)\n"
     ]
    }
   ],
   "source": [
    "# Separate Good and Bad Customers Data\n",
    "temp_data = pd.read_csv(\"C:\\Project_Files\\Capstone1_Files\\German_CreditRating_Cleaned_Data.csv\")\n",
    "print(\"shape of the Original data\",temp_data.shape)\n",
    "good_customers = temp_data[temp_data['credibility'] == 1]\n",
    "bad_customers = temp_data[temp_data['credibility'] == 0]"
   ]
  },
  {
   "cell_type": "code",
   "execution_count": 6,
   "metadata": {
    "collapsed": true
   },
   "outputs": [],
   "source": [
    "def binary_transformation(data):\n",
    "    numerical_data = data[['duration','credit_amount','age']]\n",
    "    credibility_data = data['credibility']\n",
    "    data.drop(['duration','credit_amount','age','credibility'],axis=1,inplace=True)\n",
    "    data = pd.concat([pd.get_dummies(data[col]) for col in data],axis=1,keys=data.columns)\n",
    "    data[['duration','credit_amount','age']] = numerical_data\n",
    "    return (data,credibility_data)"
   ]
  },
  {
   "cell_type": "code",
   "execution_count": 7,
   "metadata": {
    "collapsed": true
   },
   "outputs": [],
   "source": [
    "# Tuning LinearSVC using C hyperparameter\n",
    "def FineTune_SVC(X_train,y_train):\n",
    "    SVC_steps = [(\"Scaler\",StandardScaler()),\n",
    "                       (\"svc_clf\",SVC(kernel=\"linear\"))]\n",
    "    svc_pipeline = Pipeline(SVC_steps)\n",
    "\n",
    "    # parameters of an Estimator  -->  svc_clf.get_params().keys()\n",
    "\n",
    "    parameters_svc = dict(svc_clf__C=[0.0001,0.001,0.01,0.1,1,10])\n",
    "    grid_svc = GridSearchCV(svc_pipeline,param_grid=parameters_svc,cv=5)\n",
    "    grid_svc_result = grid_svc.fit(X_train,y_train)\n",
    "    print(\"Best: %f using %s\" %(grid_svc_result.best_score_,grid_svc_result.best_params_))\n",
    "    return (grid_svc_result.best_params_)"
   ]
  },
  {
   "cell_type": "code",
   "execution_count": 8,
   "metadata": {
    "collapsed": true
   },
   "outputs": [],
   "source": [
    "# Evaluation on Test Data for SVC kernel Linear\n",
    "def test_evaluation(X_train,X_test,y_train,y_test,c_value):\n",
    "    scaler = StandardScaler().fit(X_train)\n",
    "    scaled_Xtrain = scaler.transform(X_train)\n",
    "    model = SVC(kernel=\"linear\",C=c_value,probability=True)\n",
    "#   print(model.get_params().keys())\n",
    "    model.fit(scaled_Xtrain,y_train)\n",
    "    scaled_Xtest = scaler.transform(X_test)\n",
    "    predicted_y = model.predict(scaled_Xtest)\n",
    "    print(\"\")\n",
    "    print(\"Accuracy score is : %s\"%accuracy_score(y_test, predicted_y))\n",
    "    print(\"\")\n",
    "    proba = model.predict_proba(scaled_Xtest)\n",
    "    return(proba[:,1])"
   ]
  },
  {
   "cell_type": "code",
   "execution_count": 6,
   "metadata": {
    "collapsed": true
   },
   "outputs": [],
   "source": [
    "# Evaluation on Test Data for LinearSVC\n",
    "#def test_evaluation(X_train,X_test,y_train,y_test,c_value):\n",
    "#    scaler = StandardScaler().fit(X_train)\n",
    "#    scaled_Xtrain = scaler.transform(X_train)\n",
    "#    model = LinearSVC(C=c_value)\n",
    "#    print(model.get_params().keys())\n",
    "#    model.fit(scaled_Xtrain,y_train)\n",
    "#    scaled_Xtest = scaler.transform(X_test)\n",
    "#    predicted_y = model.predict(scaled_Xtest)\n",
    "#    print(\"\")\n",
    "#    print(\"Accuracy score is : %s\"%accuracy_score(y_test, predicted_y))\n",
    "  #  matrix_confusion = confusion_matrix(y_test, predicted_y)\n",
    "  #  print(\"\")\n",
    "   # print(\"Confusion Matrix:-\")\n",
    "  #  print(matrix_confusion)\n",
    "  #  print(\"\")\n",
    "  #  print(\"Classification report:-\")\n",
    "  #  print(classification_report(y_test, predicted_y))\n",
    "  #  print(y_test.value_counts())\n",
    "  #  y_scores = model.decision_function(X_test)\n",
    "  #  return (predicted_y)_"
   ]
  },
  {
   "cell_type": "code",
   "execution_count": 20,
   "metadata": {
    "collapsed": true
   },
   "outputs": [],
   "source": [
    "def thresh_cost_function(proba_val):\n",
    "    thresh_val = 0\n",
    "    thresh_vals=[]\n",
    "    profit_vals=[]\n",
    "    for k  in range(1,21):\n",
    "        predicted_y=[]       \n",
    "        thresh_val = thresh_val+ 0.05\n",
    "        thresh_vals.append(thresh_val)\n",
    "        print (\"threshold value\",thresh_val)\n",
    "        for prob in proba_val:\n",
    "        \n",
    "            if (prob > thresh_val):\n",
    "                predicted_y.append(1)\n",
    "            else:predicted_y.append(0)\n",
    "        cost_params = confusion_matrix(y_test, predicted_y)\n",
    "        profit_val=0\n",
    "        def cost_function(matrix):\n",
    "            Cost_Function = (matrix[1][1] * .35) - (matrix[0][1] * 1) - (matrix[1][0] * .35)\n",
    "            Total_Loss = Cost_Function * 30000\n",
    "            print(\"Total Loss incurred by the Bank \",Total_Loss,\"DM\")\n",
    "            return(Total_Loss)\n",
    "        profit_val=cost_function(cost_params)\n",
    "        profit_vals.append(profit_val)\n",
    "   \n",
    "#    plt.plot(profit_vals,thresh_vals,linewidth=2,label=None)\n",
    "#    plt.axis([np.amin(profit_vals),np.amax(profit_vals), 0, 1])\n",
    "    plt.plot(thresh_vals,profit_vals,linewidth=2,label=None)\n",
    "    plt.axis([ 0, 1,np.amin(profit_vals),np.amax(profit_vals)])\n",
    "    plt.title(\"Measure of Cost based on Credibility\")\n",
    "    plt.xlabel(\"Threshold Values\")\n",
    "    plt.ylabel(\"Profit from Prediction\")\n",
    "    plt.show()"
   ]
  },
  {
   "cell_type": "code",
   "execution_count": 10,
   "metadata": {
    "collapsed": true
   },
   "outputs": [],
   "source": [
    "def cost_function(matrix):\n",
    "    Cost_Function = (matrix[1][1] * .35) - (matrix[0][1] * 1) - (matrix[1][0] * .35)\n",
    "    Total_Loss = Cost_Function * 30000\n",
    "    print(\"Total Loss incurred by the Bank \",Total_Loss,\"DM\")\n",
    "    return(Total_Loss)"
   ]
  },
  {
   "cell_type": "markdown",
   "metadata": {
    "collapsed": true
   },
   "source": [
    "* Let us assume that a correct decision of the bank would result in about 35% profit. A correct decision here means that the bank predicts an application to be good or credit-worthy and it actually turns out to be credit worthy. When the opposite is true, i.e. bank predicts the application to be good but it turns out to be bad credit, then the loss is 100%. If the bank predicts an application to be non-creditworthy, then loan facility is not extended to that applicant and bank does not incur any loss (opportunity loss is not considered here).\n",
    "* The margin of profit acquired by the Banks can be calculated by considering the 3 faactors\n",
    "   * profit from Good Customers\n",
    "   * Loss from incorrect Good Customers \n",
    "   * Loss of Profit from incorrect Bad Customers\n",
    "* This can be translated into cost function for evaluating the perfomance of models    \n",
    "   * Cost_function = (Total no of Good Customers x profit percentage) - (Total no of incorrect Good Customers x Loss percentage) - (Total no of Incorrect Bad Customers x Profit Percentage)            \n"
   ]
  },
  {
   "cell_type": "code",
   "execution_count": 11,
   "metadata": {
    "collapsed": true
   },
   "outputs": [],
   "source": [
    "# ROC Curve function\n",
    "def plot_roc_curve(y_test,y_scores):\n",
    "    fpr,tpr,_ = roc_curve(y_test,y_scores)\n",
    "    #print(fpr)\n",
    "    #print(tpr)\n",
    "    plt.plot(fpr,tpr,linewidth=2,label=None)\n",
    "    plt.plot([0,1],[0,1],'k--')\n",
    "    plt.axis([0, 1, 0, 1])\n",
    "    plt.xlabel(\"False Positive Rate\")\n",
    "    plt.ylabel(\"True Positive Rate\")"
   ]
  },
  {
   "cell_type": "code",
   "execution_count": null,
   "metadata": {},
   "outputs": [
    {
     "name": "stdout",
     "output_type": "stream",
     "text": [
      "==========================================================================================================\n",
      "\n",
      "Shape of good customers data :-  (100, 21)\n",
      "Shape of bad customers data :-   (300, 21)\n",
      "\n",
      "\n",
      "Best: 0.743750 using {'svc_clf__C': 0.0001}\n",
      "\n",
      "Accuracy score is : 0.775\n",
      "\n",
      "threshold value 0.05\n",
      "Total Loss incurred by the Bank  -1671000.0 DM\n",
      "threshold value 0.1\n",
      "Total Loss incurred by the Bank  -1671000.0 DM\n",
      "threshold value 0.15000000000000002\n",
      "Total Loss incurred by the Bank  -1611000.0 DM\n",
      "threshold value 0.2\n",
      "Total Loss incurred by the Bank  -1113000.0 DM\n",
      "threshold value 0.25\n",
      "Total Loss incurred by the Bank  -741000.0 DM\n",
      "threshold value 0.3\n",
      "Total Loss incurred by the Bank  -435000.0 DM\n",
      "threshold value 0.35\n",
      "Total Loss incurred by the Bank  -246000.0 DM\n",
      "threshold value 0.39999999999999997\n",
      "Total Loss incurred by the Bank  -186000.0 DM\n",
      "threshold value 0.44999999999999996\n",
      "Total Loss incurred by the Bank  -228000.0 DM\n",
      "threshold value 0.49999999999999994\n",
      "Total Loss incurred by the Bank  -228000.0 DM\n",
      "threshold value 0.5499999999999999\n",
      "Total Loss incurred by the Bank  -228000.0 DM\n",
      "threshold value 0.6\n",
      "Total Loss incurred by the Bank  -228000.0 DM\n",
      "threshold value 0.65\n",
      "Total Loss incurred by the Bank  -219000.0 DM\n",
      "threshold value 0.7000000000000001\n",
      "Total Loss incurred by the Bank  -189000.0 DM\n",
      "threshold value 0.7500000000000001\n",
      "Total Loss incurred by the Bank  -189000.0 DM\n",
      "threshold value 0.8000000000000002\n",
      "Total Loss incurred by the Bank  -189000.0 DM\n",
      "threshold value 0.8500000000000002\n",
      "Total Loss incurred by the Bank  -189000.0 DM\n",
      "threshold value 0.9000000000000002\n",
      "Total Loss incurred by the Bank  -189000.0 DM\n",
      "threshold value 0.9500000000000003\n",
      "Total Loss incurred by the Bank  -189000.0 DM\n",
      "threshold value 1.0000000000000002\n",
      "Total Loss incurred by the Bank  -189000.0 DM\n"
     ]
    },
    {
     "data": {
      "image/png": "[encoded data removed]",
      "text/plain": [
       "<matplotlib.figure.Figure at 0xd9b7733710>"
      ]
     },
     "metadata": {},
     "output_type": "display_data"
    },
    {
     "name": "stdout",
     "output_type": "stream",
     "text": [
      "==========================================================================================================\n",
      "==========================================================================================================\n",
      "\n",
      "Shape of good customers data :-  (200, 21)\n",
      "Shape of bad customers data :-   (300, 21)\n",
      "\n",
      "\n",
      "Best: 0.732500 using {'svc_clf__C': 0.01}\n",
      "\n",
      "Accuracy score is : 0.66\n",
      "\n",
      "threshold value 0.05\n",
      "Total Loss incurred by the Bank  -1026000.0 DM\n",
      "threshold value 0.1\n",
      "Total Loss incurred by the Bank  -846000.0 DM\n",
      "threshold value 0.15000000000000002\n",
      "Total Loss incurred by the Bank  -687000.0 DM\n",
      "threshold value 0.2\n",
      "Total Loss incurred by the Bank  -579000.0 DM\n",
      "threshold value 0.25\n",
      "Total Loss incurred by the Bank  -450000.0 DM\n",
      "threshold value 0.3\n",
      "Total Loss incurred by the Bank  -384000.0 DM\n",
      "threshold value 0.35\n",
      "Total Loss incurred by the Bank  -318000.0 DM\n",
      "threshold value 0.39999999999999997\n",
      "Total Loss incurred by the Bank  -213000.0 DM\n",
      "threshold value 0.44999999999999996\n",
      "Total Loss incurred by the Bank  -309000.0 DM\n",
      "threshold value 0.49999999999999994\n",
      "Total Loss incurred by the Bank  -291000.0 DM\n",
      "threshold value 0.5499999999999999\n",
      "Total Loss incurred by the Bank  -273000.0 DM\n",
      "threshold value 0.6\n",
      "Total Loss incurred by the Bank  -204000.0 DM\n",
      "threshold value 0.65\n",
      "Total Loss incurred by the Bank  -258000.0 DM\n",
      "threshold value 0.7000000000000001\n",
      "Total Loss incurred by the Bank  -282000.0 DM\n",
      "threshold value 0.7500000000000001\n",
      "Total Loss incurred by the Bank  -336000.0 DM\n",
      "threshold value 0.8000000000000002\n",
      "Total Loss incurred by the Bank  -420000.0 DM\n",
      "threshold value 0.8500000000000002\n",
      "Total Loss incurred by the Bank  -462000.0 DM\n",
      "threshold value 0.9000000000000002\n",
      "Total Loss incurred by the Bank  -462000.0 DM\n",
      "threshold value 0.9500000000000003\n",
      "Total Loss incurred by the Bank  -483000.0 DM\n",
      "threshold value 1.0000000000000002\n",
      "Total Loss incurred by the Bank  -504000.0 DM\n"
     ]
    },
    {
     "data": {
      "image/png": "[encoded data removed]",
      "text/plain": [
       "<matplotlib.figure.Figure at 0xd9b787f828>"
      ]
     },
     "metadata": {},
     "output_type": "display_data"
    },
    {
     "name": "stdout",
     "output_type": "stream",
     "text": [
      "==========================================================================================================\n",
      "==========================================================================================================\n",
      "\n",
      "Shape of good customers data :-  (300, 21)\n",
      "Shape of bad customers data :-   (300, 21)\n",
      "\n",
      "\n",
      "Best: 0.731250 using {'svc_clf__C': 0.001}\n",
      "\n",
      "Accuracy score is : 0.725\n",
      "\n",
      "threshold value 0.05\n",
      "Total Loss incurred by the Bank  -1221000.0 DM\n",
      "threshold value 0.1\n",
      "Total Loss incurred by the Bank  -1131000.0 DM\n",
      "threshold value 0.15000000000000002\n",
      "Total Loss incurred by the Bank  -1005000.0 DM\n",
      "threshold value 0.2\n",
      "Total Loss incurred by the Bank  -846000.0 DM\n",
      "threshold value 0.25\n",
      "Total Loss incurred by the Bank  -810000.0 DM\n",
      "threshold value 0.3\n",
      "Total Loss incurred by the Bank  -681000.0 DM\n",
      "threshold value 0.35\n",
      "Total Loss incurred by the Bank  -582000.0 DM\n",
      "threshold value 0.39999999999999997\n",
      "Total Loss incurred by the Bank  -402000.0 DM\n",
      "threshold value 0.44999999999999996\n",
      "Total Loss incurred by the Bank  -216000.0 DM\n",
      "threshold value 0.49999999999999994\n",
      "Total Loss incurred by the Bank  -258000.0 DM\n",
      "threshold value 0.5499999999999999\n",
      "Total Loss incurred by the Bank  -201000.0 DM\n",
      "threshold value 0.6\n",
      "Total Loss incurred by the Bank  -165000.0 DM\n",
      "threshold value 0.65\n",
      "Total Loss incurred by the Bank  -111000.0 DM\n",
      "threshold value 0.7000000000000001\n",
      "Total Loss incurred by the Bank  -216000.0 DM\n",
      "threshold value 0.7500000000000001\n",
      "Total Loss incurred by the Bank  -324000.0 DM\n",
      "threshold value 0.8000000000000002\n",
      "Total Loss incurred by the Bank  -366000.0 DM\n",
      "threshold value 0.8500000000000002\n",
      "Total Loss incurred by the Bank  -408000.0 DM\n",
      "threshold value 0.9000000000000002\n",
      "Total Loss incurred by the Bank  -525000.0 DM\n",
      "threshold value 0.9500000000000003\n",
      "Total Loss incurred by the Bank  -588000.0 DM\n",
      "threshold value 1.0000000000000002\n",
      "Total Loss incurred by the Bank  -609000.0 DM\n"
     ]
    },
    {
     "data": {
      "image/png": "[encoded data removed]",
      "text/plain": [
       "<matplotlib.figure.Figure at 0xd9b781a0b8>"
      ]
     },
     "metadata": {},
     "output_type": "display_data"
    },
    {
     "name": "stdout",
     "output_type": "stream",
     "text": [
      "==========================================================================================================\n",
      "==========================================================================================================\n",
      "\n",
      "Shape of good customers data :-  (400, 21)\n",
      "Shape of bad customers data :-   (300, 21)\n",
      "\n",
      "\n"
     ]
    }
   ],
   "source": [
    "# Undersampling Good Customer Instances to have 1:1 ratio between Good and Bad Customers data\n",
    "sample_good = [100,200,300,400,500,600,700]\n",
    "for size in sample_good:\n",
    "    good_data = good_customers.sample(n=size,random_state=42)\n",
    "    print(\"==========================================================================================================\") \n",
    "    print(\"\")\n",
    "    print(\"Shape of good customers data :- \",good_data.shape)\n",
    "    print(\"Shape of bad customers data :-  \",bad_customers.shape)\n",
    "    sample_data = pd.concat([bad_customers,good_data])\n",
    "    sample_data,target = binary_transformation(sample_data)\n",
    "    print(\"\")  \n",
    "# Split the data between Training and Test\n",
    "    X_train,X_test,y_train,y_test = train_test_split(sample_data,target,test_size=0.20,random_state=42)\n",
    "    print(\"\")\n",
    "# fine tune hyperparameters for linear Svc\n",
    "    best_param = FineTune_SVC(X_train,y_train)\n",
    "    \n",
    "# Get the Confusion Matrix for Performance Metrics\n",
    "    good_proba= test_evaluation(X_train,X_test,y_train,y_test,best_param['svc_clf__C'])\n",
    "    thresh_cost_function(good_proba)\n",
    "    print(\"==========================================================================================================\")\n",
    "    "
   ]
  },
  {
   "cell_type": "code",
   "execution_count": null,
   "metadata": {
    "collapsed": true
   },
   "outputs": [],
   "source": [
    "# call the function to plot thr ROC curve\n",
    "    plot_roc_curve(y_test,y_scores)\n",
    "    plt.show()\n",
    "    print(\"\")\n",
    "    cost_function(Confusion_Matrix)\n",
    "    print(\"\")"
   ]
  },
  {
   "cell_type": "code",
   "execution_count": null,
   "metadata": {
    "collapsed": true
   },
   "outputs": [],
   "source": [
    "* Linear SVC model is performing better than other models with an Accuracy of .755 when the hyperparameter C is 0.01 and the raito between good and bad customers is 7:3.The cost function generates more profit margin by having better recall for good customers than Bad customers thereby increasing the net revenue of the banks."
   ]
  }
 ],
 "metadata": {
  "kernelspec": {
   "display_name": "Python 3",
   "language": "python",
   "name": "python3"
  },
  "language_info": {
   "codemirror_mode": {
    "name": "ipython",
    "version": 3
   },
   "file_extension": ".py",
   "mimetype": "text/x-python",
   "name": "python",
   "nbconvert_exporter": "python",
   "pygments_lexer": "ipython3",
   "version": "3.6.2"
  }
 },
 "nbformat": 4,
 "nbformat_minor": 2
}
